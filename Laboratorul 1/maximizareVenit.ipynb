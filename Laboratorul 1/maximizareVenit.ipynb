{
 "cells": [
  {
   "cell_type": "code",
   "execution_count": 3,
   "id": "87451c1c",
   "metadata": {},
   "outputs": [],
   "source": [
    "# import the libraries\n",
    "from ortools.linear_solver import pywraplp\n",
    "import numpy as np"
   ]
  },
  {
   "cell_type": "code",
   "execution_count": 4,
   "id": "30bbaf1c",
   "metadata": {},
   "outputs": [],
   "source": [
    "# Initilize the Solver\n",
    "# We are using the Mixed integer Programming\n",
    "# Variable can take only integer value\n",
    "solver = pywraplp.Solver.CreateSolver('SCIP')\n",
    "infinity = solver.infinity()"
   ]
  },
  {
   "cell_type": "markdown",
   "id": "5e322640",
   "metadata": {},
   "source": [
    "variabile modelului"
   ]
  },
  {
   "cell_type": "code",
   "execution_count": 5,
   "id": "e637c4ed",
   "metadata": {},
   "outputs": [],
   "source": [
    "Porumb = solver.IntVar(0, solver.infinity(), 'Porumb')\n",
    "Orz = solver.IntVar(0, solver.infinity(), 'Orz')\n",
    "Ovaz = solver.IntVar(0, solver.infinity(), 'Ovaz')\n",
    "Grau = solver.IntVar(0, solver.infinity(), 'Grau')\n",
    "Secara = solver.IntVar(0, solver.infinity(), 'Secara')"
   ]
  },
  {
   "cell_type": "markdown",
   "id": "a5d5b23a",
   "metadata": {},
   "source": [
    "constraints"
   ]
  },
  {
   "cell_type": "code",
   "execution_count": 6,
   "id": "e93fd6b3",
   "metadata": {},
   "outputs": [
    {
     "data": {
      "text/plain": [
       "<ortools.linear_solver.pywraplp.Constraint; proxy of <Swig Object of type 'operations_research::MPConstraint *' at 0x000001D25D151260> >"
      ]
     },
     "execution_count": 6,
     "metadata": {},
     "output_type": "execute_result"
    }
   ],
   "source": [
    "# create our constraints\n",
    "solver.Add(Porumb * 200 + Orz * 423 + Ovaz * 90 + Grau * 356 + Secara * 400 <= 36450, \"Semințe\")\n",
    "solver.Add(Porumb * 300 + Orz * 450 + Ovaz * 100 + Grau * 570 + Secara * 400 <= 24560, \"Apă\")\n",
    "solver.Add(Porumb * 230 + Orz * 250 + Ovaz * 73 + Grau * 300 + Secara * 245 <= 6500, \"Îngrășăminte\")\n",
    "solver.Add(Porumb * 200 + Orz * 150 + Ovaz * 90 + Grau * 56 + Secara * 94 <= 5700, \"Perioada de creștere\")\n",
    "solver.Add(Porumb * 30 + Orz * 29 + Ovaz * 16 + Grau * 16 + Secara * 15 <= 2650, \"Prețul-Vânzare\")"
   ]
  },
  {
   "cell_type": "code",
   "execution_count": 7,
   "id": "a84b0b35",
   "metadata": {},
   "outputs": [],
   "source": [
    "# the income of the plants\n",
    "solver.Maximize(Porumb * 200 + Orz * 570 + Ovaz * 94 + Grau * 643 + Secara * 489)"
   ]
  },
  {
   "cell_type": "code",
   "execution_count": 9,
   "id": "1e76312f",
   "metadata": {},
   "outputs": [],
   "source": [
    "# Solving the Equation\n",
    "status = solver.Solve()\n",
    "#print(status)"
   ]
  },
  {
   "cell_type": "code",
   "execution_count": 12,
   "id": "e4136ea4",
   "metadata": {},
   "outputs": [
    {
     "name": "stdout",
     "output_type": "stream",
     "text": [
      "Net Profit Amount: 14820.0\n",
      "Production Plan are below : \n",
      "Porumb:  0 Unit\n",
      "Orz:  26 Unit\n",
      "Ovaz:  0 Unit\n",
      "Grau:  0 Unit\n",
      "Secara:  0 Unit\n"
     ]
    }
   ],
   "source": [
    "# display the final data\n",
    "if status == pywraplp.Solver.OPTIMAL or status==pywraplp.Solver.FEASIBLE:\n",
    "    print('Net Profit Amount:',solver.Objective().Value())\n",
    "    print('Production Plan are below : ')\n",
    "    print('Porumb: ',int(Porumb.solution_value()),'Unit')\n",
    "    print('Orz: ',int(Orz.solution_value()),'Unit')\n",
    "    print('Ovaz: ',int(Ovaz.solution_value()),'Unit')\n",
    "    print('Grau: ',int(Grau.solution_value()),'Unit')\n",
    "    print('Secara: ',int(Secara.solution_value()),'Unit')"
   ]
  }
 ],
 "metadata": {
  "kernelspec": {
   "display_name": "Python 3 (ipykernel)",
   "language": "python",
   "name": "python3"
  },
  "language_info": {
   "codemirror_mode": {
    "name": "ipython",
    "version": 3
   },
   "file_extension": ".py",
   "mimetype": "text/x-python",
   "name": "python",
   "nbconvert_exporter": "python",
   "pygments_lexer": "ipython3",
   "version": "3.10.2"
  }
 },
 "nbformat": 4,
 "nbformat_minor": 5
}
