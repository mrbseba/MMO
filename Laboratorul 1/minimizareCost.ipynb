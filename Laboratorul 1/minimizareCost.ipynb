{
 "cells": [
  {
   "cell_type": "code",
   "execution_count": 1,
   "id": "dda95948",
   "metadata": {},
   "outputs": [],
   "source": [
    "# import the libraries\n",
    "from ortools.linear_solver import pywraplp\n",
    "import numpy as np"
   ]
  },
  {
   "cell_type": "code",
   "execution_count": 2,
   "id": "5c7ce96a",
   "metadata": {},
   "outputs": [],
   "source": [
    "# Initilize the Solver\n",
    "# We are using the Mixed integer Programming\n",
    "# Variable can take only integer value\n",
    "solver = pywraplp.Solver.CreateSolver('SCIP')\n",
    "infinity = solver.infinity()"
   ]
  },
  {
   "cell_type": "code",
   "execution_count": 5,
   "id": "29f9c05d",
   "metadata": {},
   "outputs": [],
   "source": [
    "oatmeal = solver.IntVar(0, solver.infinity(), 'Ab&J Oatmeal Bowl')\n",
    "platter = solver.IntVar(0, solver.infinity(), 'B Platter')\n",
    "buffalo = solver.IntVar(0, solver.infinity(), 'Buffalo Style Chicken Bowl')\n",
    "teriyaki = solver.IntVar(0, solver.infinity(), 'Chicken Teriyaki with Rice')\n",
    "meat_loaf = solver.IntVar(0, solver.infinity(), 'Turkey Meat Loaf')"
   ]
  },
  {
   "cell_type": "code",
   "execution_count": 6,
   "id": "f6a080d7",
   "metadata": {},
   "outputs": [
    {
     "data": {
      "text/plain": [
       "<ortools.linear_solver.pywraplp.Constraint; proxy of <Swig Object of type 'operations_research::MPConstraint *' at 0x000001DBC010E610> >"
      ]
     },
     "execution_count": 6,
     "metadata": {},
     "output_type": "execute_result"
    }
   ],
   "source": [
    "# create our constraints\n",
    "solver.Add(oatmeal * 420 + platter * 410 + buffalo * 430 + teriyaki * 360 + meat_loaf * 330 >= 9200, \"Calorii\")\n",
    "solver.Add(oatmeal * 14 + platter * 34 + buffalo * 32 + teriyaki * 11 + meat_loaf * 43 >= 1300, \"Proteine\")\n",
    "solver.Add(oatmeal * 40 + platter * 9 + buffalo * 41 + teriyaki * 48 + meat_loaf * 31 >= 600, \"Carbohidranți\")\n",
    "solver.Add(oatmeal * 24 + platter * 27 + buffalo * 16 + teriyaki * 15 + meat_loaf * 4.5 >= 520, \"Grăsimi\")\n",
    "solver.Add(oatmeal * 2 + platter * 9 + buffalo * 1 + teriyaki * 3 + meat_loaf * 5 >= 42, \"Vitamine\")"
   ]
  },
  {
   "cell_type": "code",
   "execution_count": 17,
   "id": "4b6f1d83",
   "metadata": {},
   "outputs": [],
   "source": [
    "# the price of the food\n",
    "solver.Minimize(oatmeal * 7 + platter * 9 + buffalo * 9.5 + teriyaki * 8.5 + meat_loaf * 8)"
   ]
  },
  {
   "cell_type": "code",
   "execution_count": 18,
   "id": "76f509f4",
   "metadata": {},
   "outputs": [],
   "source": [
    "# Solving the Equation\n",
    "status = solver.Solve()\n",
    "#print(status)"
   ]
  },
  {
   "cell_type": "code",
   "execution_count": 21,
   "id": "1eca5fdd",
   "metadata": {},
   "outputs": [
    {
     "name": "stdout",
     "output_type": "stream",
     "text": [
      "Net Profit Amount: 289.0\n",
      "Plan are below: \n",
      "Ab&J Oatmeal Bowl: 0.0 Unit\n",
      "B Platter: 17.0 Unit\n",
      "Buffalo Style Chicken Bowl: 0.0 Unit\n",
      "Chicken Teriyaki with Rice: 0.0 Unit\n",
      "Turkey Meat Loaf: 17.0 Unit\n"
     ]
    }
   ],
   "source": [
    "# display the final data\n",
    "if status == pywraplp.Solver.OPTIMAL or status == pywraplp.Solver.FEASIBLE:\n",
    "    print('Net Profit Amount:', solver.Objective().Value())\n",
    "    print('Plan are below: ')   \n",
    "    print('Ab&J Oatmeal Bowl:', int(oatmeal.solution_value()), 'Unit')\n",
    "    print('B Platter:', int(platter.solution_value()), 'Unit')\n",
    "    print('Buffalo Style Chicken Bowl:', int(buffalo.solution_value()), 'Unit')\n",
    "    print('Chicken Teriyaki with Rice:', int(teriyaki.solution_value()), 'Unit')\n",
    "    print('Turkey Meat Loaf:', int(meat_loaf.solution_value()), 'Unit')"
   ]
  },
  {
   "cell_type": "code",
   "execution_count": null,
   "id": "21f42f77",
   "metadata": {},
   "outputs": [],
   "source": []
  }
 ],
 "metadata": {
  "kernelspec": {
   "display_name": "Python 3 (ipykernel)",
   "language": "python",
   "name": "python3"
  },
  "language_info": {
   "codemirror_mode": {
    "name": "ipython",
    "version": 3
   },
   "file_extension": ".py",
   "mimetype": "text/x-python",
   "name": "python",
   "nbconvert_exporter": "python",
   "pygments_lexer": "ipython3",
   "version": "3.10.2"
  }
 },
 "nbformat": 4,
 "nbformat_minor": 5
}
